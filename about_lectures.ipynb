{
 "cells": [
  {
   "cell_type": "markdown",
   "metadata": {},
   "source": [
    "\n",
    "<a id='about-lectures'></a>\n",
    "<div id=\"qe-notebook-header\" align=\"right\" style=\"text-align:right;\">\n",
    "        <a href=\"https://quantecon.org/\" title=\"quantecon.org\">\n",
    "                <img style=\"width:250px;display:inline;\" width=\"250px\" src=\"https://assets.quantecon.org/img/qe-menubar-logo.svg\" alt=\"QuantEcon\">\n",
    "        </a>\n",
    "</div>"
   ]
  },
  {
   "cell_type": "markdown",
   "metadata": {},
   "source": [
    "# About these Lectures"
   ]
  },
  {
   "cell_type": "markdown",
   "metadata": {},
   "source": [
    "## Contents\n",
    "\n",
    "- [About these Lectures](#About-these-Lectures)  \n",
    "  - [Overview](#Overview)  \n",
    "  - [Python](#Python)  \n",
    "  - [Open Source](#Open-Source)  \n",
    "  - [How about Other Languages?](#How-about-Other-Languages?)  \n",
    "  - [Credits](#Credits)  "
   ]
  },
  {
   "cell_type": "markdown",
   "metadata": {},
   "source": [
    "<style type=\"text/css\">.lecture-options{display:none;}</style>"
   ]
  },
  {
   "cell_type": "markdown",
   "metadata": {},
   "source": [
    "## Overview\n",
    "\n",
    "Programming, mathematics and statistics are powerful tools for analyzing the functioning of economies.\n",
    "\n",
    "This lecture series provides a hands-on instruction manual.\n",
    "\n",
    "Topics include\n",
    "\n",
    "- algorithms and numerical methods for studying economic problems,  \n",
    "- related mathematical and statistical concepts, and  \n",
    "- basics of coding skills and software engineering.  \n",
    "\n",
    "\n",
    "The intended audience is undergraduate students, graduate students and\n",
    "researchers in economics, finance and related fields."
   ]
  },
  {
   "cell_type": "markdown",
   "metadata": {},
   "source": [
    "## Python\n",
    "\n",
    "The coding language for this lecture series is Python.\n",
    "\n",
    "Note that there’s also a related set of Julia lectures <add link here>.\n",
    "\n",
    "In terms of the differences,\n",
    "\n",
    "- Python is a general-purpose language featuring a massive user community in the sciences and an outstanding scientific ecosystem.  \n",
    "- Julia is a more recent language with many exciting features.  \n",
    "\n",
    "\n",
    "Both are modern, open-source, high productivity languages with all the key features needed for\n",
    "high-performance computing.\n",
    "\n",
    "Julia has the advantage that third party libraries are often written entirely in Julia itself.\n",
    "\n",
    "Python has the advantage of being supported by a vast collection of scientific libraries (and being a highly marketable skill)."
   ]
  },
  {
   "cell_type": "markdown",
   "metadata": {},
   "source": [
    "## Open Source\n",
    "\n",
    "All the computing environments we work with are free and open-source.\n",
    "\n",
    "This means that you, your coauthors and your students can install them and their libraries on all of your computers without cost or concern about licenses.\n",
    "\n",
    "Another advantage of open source libraries is that you can read them and learn\n",
    "how they work.\n",
    "\n",
    "For example, let’s say you want to know exactly how [statsmodels](https://github.com/statsmodels/statsmodels) computes Newey-West covariance matrices.\n",
    "\n",
    "No problem: You can go ahead and [read the code](https://github.com/statsmodels/statsmodels/blob/master/statsmodels/stats/sandwich_covariance.py).\n",
    "\n",
    "While dipping into external code libraries takes a bit of coding maturity, it’s very useful for\n",
    "\n",
    "1. helping you understand the details of a particular implementation, and  \n",
    "1. building your programming skills by showing you code written by first-rate programmers.  \n",
    "\n",
    "\n",
    "Also, you can modify the library to suit your needs: if the functionality provided is not exactly what you want, you are free to change it.\n",
    "\n",
    "Another, a more philosophical advantage of open-source software is that it conforms to the [scientific ideal of reproducibility](https://en.wikipedia.org/wiki/Scientific_method)."
   ]
  },
  {
   "cell_type": "markdown",
   "metadata": {},
   "source": [
    "## How about Other Languages?\n",
    "\n",
    "But why don’t you use language XYZ?"
   ]
  },
  {
   "cell_type": "markdown",
   "metadata": {},
   "source": [
    "### MATLAB\n",
    "\n",
    "While MATLAB has many nice features, it’s starting to show its age.\n",
    "\n",
    "It can no longer match Python or Julia in terms of performance and design.\n",
    "\n",
    "MATLAB is also proprietary, which comes with its own set of disadvantages.\n",
    "\n",
    "Given what’s available now, it’s hard to find any good reason to invest in MATLAB.\n",
    "\n",
    "Incidentally, if you decide to jump from MATLAB to Python, [this cheat-sheet](http://cheatsheets.quantecon.org/) will be useful."
   ]
  },
  {
   "cell_type": "markdown",
   "metadata": {},
   "source": [
    "### R\n",
    "\n",
    "[R](https://cran.r-project.org/) is a very useful open source statistical environment and programming language\n",
    "\n",
    "Its primary strength is its [vast collection](https://cran.r-project.org/web/packages) of extension packages\n",
    "\n",
    "Python is more general-purpose than R and hence a better fit for this course\n",
    "\n",
    "Moreover, if there are R libraries you find you want to use, you can now call them from within Python or Julia"
   ]
  },
  {
   "cell_type": "markdown",
   "metadata": {},
   "source": [
    "### C / C++ / Fortran?\n",
    "\n",
    "Isn’t Fortran / C / C++ faster than Python? In which case it must be better, right?\n",
    "\n",
    "This is an outdated view.\n",
    "\n",
    "First, you can achieve speeds equal to or faster than those of compiled languages in Python through features like a just-in-time compilation — we’ll talk about how later on.\n",
    "\n",
    "Second, remember that the correct objective function to minimize is"
   ]
  },
  {
   "cell_type": "markdown",
   "metadata": {
    "hide-output": false
   },
   "source": [
    "```python\n",
    "total time = development time + execution time\n",
    "```\n"
   ]
  },
  {
   "cell_type": "markdown",
   "metadata": {},
   "source": [
    "In assessing this trade off, it’s necessary to bear in mind that\n",
    "\n",
    "- Your time is a far more valuable resource than the computer’s time.  \n",
    "- Languages like Python are much faster to write and debug in.  \n",
    "- In any one program, the vast majority of CPU time will be spent iterating over just a few lines of your code.  "
   ]
  },
  {
   "cell_type": "markdown",
   "metadata": {},
   "source": [
    "#### Last Word\n",
    "\n",
    "Writing your entire program in Fortran / C / C++ is best thought of as “premature optimization”\n",
    "\n",
    "On this topic we quote the godfather:\n",
    "\n",
    "> We should forget about small efficiencies, say about 97% of the time: premature optimization is the root of all evil. – [Donald Knuth](https://en.wikipedia.org/wiki/Donald_Knuth)"
   ]
  },
  {
   "cell_type": "markdown",
   "metadata": {},
   "source": [
    "## Credits\n",
    "\n",
    "These lectures have benefited greatly from comments and suggestions from our\n",
    "colleagues, students and friends. Special thanks are due to our sponsoring\n",
    "organization the Alfred P. Sloan Foundation and our research assistants Chase\n",
    "Coleman, Spencer Lyon and Matthew McKay for innumerable contributions to the\n",
    "code library and functioning of the website.\n",
    "\n",
    "We also thank [Andrij Stachurski](http://drdrij.com/) for his great web\n",
    "skills, and the many others who have contributed suggestions, bug fixes or\n",
    "improvements. They include but are not limited to Anmol Bhandari, Long Bui,\n",
    "Jeong-Hun Choi, David Evans, Shunsuke Hori, Chenghan Hou, Doc-Jin Jang,\n",
    "Qingyin Ma, Akira Matsushita, Tomohito Okabe, Daisuke Oyama, David Pugh, Alex\n",
    "Olssen, Nathan Palmer, Bill Tubbs, Natasha Watkins, Pablo Winant and Yixiao\n",
    "Zhou."
   ]
  }
 ],
 "metadata": {
  "date": 1583215090.9072158,
  "filename": "about_lectures.rst",
  "kernelspec": {
   "display_name": "Python",
   "language": "python3",
   "name": "python3"
  },
  "title": "About these Lectures"
 },
 "nbformat": 4,
 "nbformat_minor": 2
}